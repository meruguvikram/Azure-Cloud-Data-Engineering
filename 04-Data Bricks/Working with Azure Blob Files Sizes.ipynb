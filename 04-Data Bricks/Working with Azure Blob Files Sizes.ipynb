{
 "cells": [
  {
   "cell_type": "markdown",
   "metadata": {
    "application/vnd.databricks.v1+cell": {
     "cellMetadata": {},
     "inputWidgets": {},
     "nuid": "9b9585b3-9ff4-4800-8523-43122c29e8e6",
     "showTitle": false,
     "tableResultSettingsMap": {},
     "title": ""
    }
   },
   "source": [
    "# Load and Display Files Name and Sizes"
   ]
  },
  {
   "cell_type": "code",
   "execution_count": 0,
   "metadata": {
    "application/vnd.databricks.v1+cell": {
     "cellMetadata": {
      "byteLimit": 2048000,
      "rowLimit": 10000
     },
     "inputWidgets": {},
     "nuid": "caae555a-343a-453e-99bd-99d411268945",
     "showTitle": false,
     "tableResultSettingsMap": {},
     "title": ""
    }
   },
   "outputs": [
    {
     "output_type": "display_data",
     "data": {
      "text/html": [
       "<style scoped>\n",
       "  .table-result-container {\n",
       "    max-height: 300px;\n",
       "    overflow: auto;\n",
       "  }\n",
       "  table, th, td {\n",
       "    border: 1px solid black;\n",
       "    border-collapse: collapse;\n",
       "  }\n",
       "  th, td {\n",
       "    padding: 5px;\n",
       "  }\n",
       "  th {\n",
       "    text-align: left;\n",
       "  }\n",
       "</style><div class='table-result-container'><table class='table-result'><thead style='background-color: white'><tr><th>path</th><th>size</th></tr></thead><tbody><tr><td>wasbs://cdrive@b2410saos.blob.core.windows.net/SavedQuery.txt</td><td>243</td></tr></tbody></table></div>"
      ]
     },
     "metadata": {
      "application/vnd.databricks.v1+output": {
       "addedWidgets": {},
       "aggData": [],
       "aggError": "",
       "aggOverflow": false,
       "aggSchema": [],
       "aggSeriesLimitReached": false,
       "aggType": "",
       "arguments": {},
       "columnCustomDisplayInfos": {},
       "data": [
        [
         "wasbs://cdrive@b2410saos.blob.core.windows.net/SavedQuery.txt",
         243
        ]
       ],
       "datasetInfos": [],
       "dbfsResultPath": null,
       "isJsonSchema": true,
       "metadata": {},
       "overflow": false,
       "plotOptions": {
        "customPlotOptions": {},
        "displayType": "table",
        "pivotAggregation": null,
        "pivotColumns": null,
        "xColumns": null,
        "yColumns": null
       },
       "removedWidgets": [],
       "schema": [
        {
         "metadata": "{}",
         "name": "path",
         "type": "\"string\""
        },
        {
         "metadata": "{}",
         "name": "size",
         "type": "\"long\""
        }
       ],
       "type": "table"
      }
     },
     "output_type": "display_data"
    }
   ],
   "source": [
    "from pyspark.sql.functions import col\n",
    "\n",
    "# Define the Azure Blob Storage account details\n",
    "account_name = \"b2410saos\" #\"your_account_name\"\n",
    "container_name = \"cdrive\"#\"your_container_name\"\n",
    "sas_token = \"sv=2022-11-02&ss=bfqt&srt=sco&sp=rwdlacupiytfx&se=2025-12-02T22:21:23Z&st=2024-12-02T14:21:23Z&spr=https,http&sig=HFAGH0i5Fw1voajhIQt%2FXjUS3SFKMRiOouCRhij%2FPIE%3D\" #\"your_sas_token\"\n",
    "\n",
    "# Set the configuration for accessing Azure Blob Storage\n",
    "spark.conf.set(f\"fs.azure.sas.{container_name}.{account_name}.blob.core.windows.net\", sas_token)\n",
    "\n",
    "# List the files in the container\n",
    "files_df = spark.read.format(\"binaryFile\").load(f\"wasbs://{container_name}@{account_name}.blob.core.windows.net/\")\n",
    "\n",
    "# Select the path and length (size) of each file\n",
    "files_sizes_df = files_df.select(col(\"path\"), col(\"length\").alias(\"size\"))\n",
    "\n",
    "# Display the file sizes\n",
    "display(files_sizes_df)"
   ]
  },
  {
   "cell_type": "markdown",
   "metadata": {
    "application/vnd.databricks.v1+cell": {
     "cellMetadata": {},
     "inputWidgets": {},
     "nuid": "c453d413-709d-4361-8530-86c1cfaf36ab",
     "showTitle": false,
     "tableResultSettingsMap": {},
     "title": ""
    }
   },
   "source": [
    "# Read files recursively from Azure Blob Storage and display their sizes"
   ]
  },
  {
   "cell_type": "code",
   "execution_count": 0,
   "metadata": {
    "application/vnd.databricks.v1+cell": {
     "cellMetadata": {
      "byteLimit": 2048000,
      "rowLimit": 10000
     },
     "inputWidgets": {},
     "nuid": "a51769ff-a48f-4758-8a5d-3f11ba5701ad",
     "showTitle": false,
     "tableResultSettingsMap": {},
     "title": ""
    }
   },
   "outputs": [
    {
     "output_type": "display_data",
     "data": {
      "text/html": [
       "<style scoped>\n",
       "  .table-result-container {\n",
       "    max-height: 300px;\n",
       "    overflow: auto;\n",
       "  }\n",
       "  table, th, td {\n",
       "    border: 1px solid black;\n",
       "    border-collapse: collapse;\n",
       "  }\n",
       "  th, td {\n",
       "    padding: 5px;\n",
       "  }\n",
       "  th {\n",
       "    text-align: left;\n",
       "  }\n",
       "</style><div class='table-result-container'><table class='table-result'><thead style='background-color: white'><tr><th>path</th><th>size</th></tr></thead><tbody><tr><td>wasbs://cdrive@b2410saos.blob.core.windows.net/Personal/20516321.jpg</td><td>18412</td></tr><tr><td>wasbs://cdrive@b2410saos.blob.core.windows.net/input/Load_multiple_sheets_of_excel.xlsx</td><td>17092</td></tr><tr><td>wasbs://cdrive@b2410saos.blob.core.windows.net/erp/Financial/ap/emp.csv</td><td>693</td></tr><tr><td>wasbs://cdrive@b2410saos.blob.core.windows.net/input/emp.csv</td><td>659</td></tr><tr><td>wasbs://cdrive@b2410saos.blob.core.windows.net/erp/parameterfile.json</td><td>402</td></tr><tr><td>wasbs://cdrive@b2410saos.blob.core.windows.net/SavedQuery.txt</td><td>243</td></tr><tr><td>wasbs://cdrive@b2410saos.blob.core.windows.net/input/test/employee.csv</td><td>203</td></tr><tr><td>wasbs://cdrive@b2410saos.blob.core.windows.net/erp/Financial/ar/dept.csv</td><td>102</td></tr><tr><td>wasbs://cdrive@b2410saos.blob.core.windows.net/program Files/documenttools/zoomit/dept.csv</td><td>102</td></tr><tr><td>wasbs://cdrive@b2410saos.blob.core.windows.net/input/24/10/file1.csv</td><td>44</td></tr><tr><td>wasbs://cdrive@b2410saos.blob.core.windows.net/input/24/11/18/file1.csv</td><td>44</td></tr><tr><td>wasbs://cdrive@b2410saos.blob.core.windows.net/input/24/11/file2.csv</td><td>41</td></tr><tr><td>wasbs://cdrive@b2410saos.blob.core.windows.net/input/24/11/19/file2.csv</td><td>41</td></tr></tbody></table></div>"
      ]
     },
     "metadata": {
      "application/vnd.databricks.v1+output": {
       "addedWidgets": {},
       "aggData": [],
       "aggError": "",
       "aggOverflow": false,
       "aggSchema": [],
       "aggSeriesLimitReached": false,
       "aggType": "",
       "arguments": {},
       "columnCustomDisplayInfos": {},
       "data": [
        [
         "wasbs://cdrive@b2410saos.blob.core.windows.net/Personal/20516321.jpg",
         18412
        ],
        [
         "wasbs://cdrive@b2410saos.blob.core.windows.net/input/Load_multiple_sheets_of_excel.xlsx",
         17092
        ],
        [
         "wasbs://cdrive@b2410saos.blob.core.windows.net/erp/Financial/ap/emp.csv",
         693
        ],
        [
         "wasbs://cdrive@b2410saos.blob.core.windows.net/input/emp.csv",
         659
        ],
        [
         "wasbs://cdrive@b2410saos.blob.core.windows.net/erp/parameterfile.json",
         402
        ],
        [
         "wasbs://cdrive@b2410saos.blob.core.windows.net/SavedQuery.txt",
         243
        ],
        [
         "wasbs://cdrive@b2410saos.blob.core.windows.net/input/test/employee.csv",
         203
        ],
        [
         "wasbs://cdrive@b2410saos.blob.core.windows.net/erp/Financial/ar/dept.csv",
         102
        ],
        [
         "wasbs://cdrive@b2410saos.blob.core.windows.net/program Files/documenttools/zoomit/dept.csv",
         102
        ],
        [
         "wasbs://cdrive@b2410saos.blob.core.windows.net/input/24/10/file1.csv",
         44
        ],
        [
         "wasbs://cdrive@b2410saos.blob.core.windows.net/input/24/11/18/file1.csv",
         44
        ],
        [
         "wasbs://cdrive@b2410saos.blob.core.windows.net/input/24/11/file2.csv",
         41
        ],
        [
         "wasbs://cdrive@b2410saos.blob.core.windows.net/input/24/11/19/file2.csv",
         41
        ]
       ],
       "datasetInfos": [],
       "dbfsResultPath": null,
       "isJsonSchema": true,
       "metadata": {},
       "overflow": false,
       "plotOptions": {
        "customPlotOptions": {},
        "displayType": "table",
        "pivotAggregation": null,
        "pivotColumns": null,
        "xColumns": null,
        "yColumns": null
       },
       "removedWidgets": [],
       "schema": [
        {
         "metadata": "{}",
         "name": "path",
         "type": "\"string\""
        },
        {
         "metadata": "{}",
         "name": "size",
         "type": "\"long\""
        }
       ],
       "type": "table"
      }
     },
     "output_type": "display_data"
    }
   ],
   "source": [
    "from pyspark.sql.functions import col\n",
    "\n",
    "# Define the Azure Blob Storage account details\n",
    "account_name = \"b2410saos\"\n",
    "container_name = \"cdrive\"\n",
    "sas_token = \"sv=2022-11-02&ss=bfqt&srt=sco&sp=rwdlacupiytfx&se=2025-12-02T22:21:23Z&st=2024-12-02T14:21:23Z&spr=https,http&sig=HFAGH0i5Fw1voajhIQt%2FXjUS3SFKMRiOouCRhij%2FPIE%3D\"\n",
    "\n",
    "# Set the configuration for accessing Azure Blob Storage\n",
    "spark.conf.set(f\"fs.azure.sas.{container_name}.{account_name}.blob.core.windows.net\", sas_token)\n",
    "\n",
    "# List the files in the container recursively\n",
    "files_df = spark.read.format(\"binaryFile\").option(\"recursiveFileLookup\", \"true\").load(f\"wasbs://{container_name}@{account_name}.blob.core.windows.net/\")\n",
    "\n",
    "# Select the path and length (size) of each file\n",
    "files_sizes_df = files_df.select(col(\"path\"), col(\"length\").alias(\"size\"))\n",
    "\n",
    "# Display the file sizes\n",
    "display(files_sizes_df)"
   ]
  },
  {
   "cell_type": "markdown",
   "metadata": {
    "application/vnd.databricks.v1+cell": {
     "cellMetadata": {},
     "inputWidgets": {},
     "nuid": "10844393-7e59-4377-a4a4-21ef3bf3bbcc",
     "showTitle": false,
     "tableResultSettingsMap": {},
     "title": ""
    }
   },
   "source": [
    "# Delete files older than 2 days and size more than 200 bytes from Azure Blob Storage"
   ]
  },
  {
   "cell_type": "code",
   "execution_count": 0,
   "metadata": {
    "application/vnd.databricks.v1+cell": {
     "cellMetadata": {
      "byteLimit": 2048000,
      "rowLimit": 10000
     },
     "inputWidgets": {},
     "nuid": "ddc52b14-5c61-448e-abcd-84a716740d2c",
     "showTitle": false,
     "tableResultSettingsMap": {},
     "title": ""
    }
   },
   "outputs": [
    {
     "output_type": "display_data",
     "data": {
      "text/html": [
       "<style scoped>\n",
       "  .table-result-container {\n",
       "    max-height: 300px;\n",
       "    overflow: auto;\n",
       "  }\n",
       "  table, th, td {\n",
       "    border: 1px solid black;\n",
       "    border-collapse: collapse;\n",
       "  }\n",
       "  th, td {\n",
       "    padding: 5px;\n",
       "  }\n",
       "  th {\n",
       "    text-align: left;\n",
       "  }\n",
       "</style><div class='table-result-container'><table class='table-result'><thead style='background-color: white'><tr><th>path</th></tr></thead><tbody></tbody></table></div>"
      ]
     },
     "metadata": {
      "application/vnd.databricks.v1+output": {
       "addedWidgets": {},
       "aggData": [],
       "aggError": "",
       "aggOverflow": false,
       "aggSchema": [],
       "aggSeriesLimitReached": false,
       "aggType": "",
       "arguments": {},
       "columnCustomDisplayInfos": {},
       "data": [],
       "datasetInfos": [],
       "dbfsResultPath": null,
       "isJsonSchema": true,
       "metadata": {},
       "overflow": false,
       "plotOptions": {
        "customPlotOptions": {},
        "displayType": "table",
        "pivotAggregation": null,
        "pivotColumns": null,
        "xColumns": null,
        "yColumns": null
       },
       "removedWidgets": [],
       "schema": [
        {
         "metadata": "{}",
         "name": "path",
         "type": "\"string\""
        }
       ],
       "type": "table"
      }
     },
     "output_type": "display_data"
    }
   ],
   "source": [
    "from pyspark.sql.functions import col, unix_timestamp, current_timestamp,expr\n",
    "\n",
    "# Define the Azure Blob Storage account details\n",
    "account_name = \"b2410saos\"\n",
    "container_name = \"cdrive\"\n",
    "sas_token = \"sv=2022-11-02&ss=bfqt&srt=sco&sp=rwdlacupiytfx&se=2025-12-02T22:21:23Z&st=2024-12-02T14:21:23Z&spr=https,http&sig=HFAGH0i5Fw1voajhIQt%2FXjUS3SFKMRiOouCRhij%2FPIE%3D\"\n",
    "\n",
    "# Set the configuration for accessing Azure Blob Storage\n",
    "spark.conf.set(f\"fs.azure.sas.{container_name}.{account_name}.blob.core.windows.net\", sas_token)\n",
    "\n",
    "# List the files in the container recursively\n",
    "files_df = spark.read.format(\"binaryFile\").option(\"recursiveFileLookup\", \"true\").load(f\"wasbs://{container_name}@{account_name}.blob.core.windows.net/\")\n",
    "\n",
    "# Filter files older than 7 days and size more than 200 bytes\n",
    "seven_days_ago = (current_timestamp() - expr(\"INTERVAL 2 DAYS\")).cast(\"timestamp\")\n",
    "\n",
    "filtered_files_df = files_df.filter((col(\"modificationTime\") < seven_days_ago) & (col(\"length\") > 200))\n",
    "\n",
    "# Select the path of each file to be deleted\n",
    "files_to_delete_df = filtered_files_df.select(col(\"path\"))\n",
    "\n",
    "# Collect the paths to delete\n",
    "files_to_delete = [row.path for row in files_to_delete_df.collect()]\n",
    "\n",
    "# Delete the files\n",
    "for file_path in files_to_delete:\n",
    "    dbutils.fs.rm(file_path, True)\n",
    "\n",
    "# Display the paths of deleted files\n",
    "# display(files_to_delete_df)\n"
   ]
  }
 ],
 "metadata": {
  "application/vnd.databricks.v1+notebook": {
   "dashboards": [],
   "environmentMetadata": {
    "base_environment": "",
    "client": "1"
   },
   "language": "python",
   "notebookMetadata": {
    "pythonIndentUnit": 4
   },
   "notebookName": "Working with Azure Blob Files Sizes",
   "widgets": {}
  },
  "language_info": {
   "name": "python"
  }
 },
 "nbformat": 4,
 "nbformat_minor": 0
}

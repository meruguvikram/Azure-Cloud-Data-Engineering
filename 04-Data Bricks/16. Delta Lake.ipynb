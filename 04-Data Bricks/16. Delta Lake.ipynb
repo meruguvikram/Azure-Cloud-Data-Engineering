{
 "cells": [
  {
   "cell_type": "markdown",
   "metadata": {
    "application/vnd.databricks.v1+cell": {
     "cellMetadata": {},
     "inputWidgets": {},
     "nuid": "450e6749-30c4-494d-951f-9add62dc2b23",
     "showTitle": false,
     "tableResultSettingsMap": {},
     "title": ""
    }
   },
   "source": [
    "## Delta Lake: A Powerful Tool for Data Lakes\n",
    "\n",
    "**Delta Lake** is an open-source storage layer that brings ACID transactions to data lakes. It builds upon the strengths of Apache Parquet, providing a reliable and scalable platform for big data analytics.\n",
    "\n",
    "**Key Features of Delta Lake:**\n",
    "\n",
    "1. **ACID Transactions:**\n",
    "   * Ensures data consistency and reliability, even in concurrent writes.\n",
    "   * Prevents data corruption and ensures data integrity.\n",
    "2. **Schema Evolution:**\n",
    "   * Supports schema evolution, allowing you to add, modify, or drop columns without breaking existing queries.\n",
    "   * Provides flexibility in data modeling and schema changes.\n",
    "3. **Time Travel:**\n",
    "   * Allows you to query historical versions of your data.\n",
    "   * Facilitates data auditing and rollback.\n",
    "4. **Unified Batch and Streaming:**\n",
    "   * Supports both batch and streaming data ingestion and processing.\n",
    "   * Simplifies data pipelines and enables real-time analytics.\n",
    "5. **Self-Healing:**\n",
    "   * Automatically recovers from data corruption or failures.\n",
    "   * Ensures data integrity and reliability.\n",
    "\n",
    "**How Delta Lake Works:**\n",
    "\n",
    "1. **Data Storage:** Delta Lake stores data in Parquet format, which is a highly efficient columnar format.\n",
    "2. **Transaction Log:** It maintains a transaction log that records all changes made to the table.\n",
    "3. **Read and Write Operations:** When you read or write data to a Delta table, Delta Lake reads the transaction log to determine the current state of the table.\n",
    "4. **Time Travel:** You can query historical versions of the table by specifying a specific version number or timestamp.\n",
    "\n",
    "**Benefits of Using Delta Lake:**\n",
    "\n",
    "* **Reliability and Consistency:** Ensures data integrity and consistency through ACID transactions.\n",
    "* **Scalability:** Handles large-scale datasets and high-throughput workloads.\n",
    "* **Flexibility:** Supports schema evolution and time travel.\n",
    "* **Performance:** Optimized for fast query performance.\n",
    "* **Simplified Data Pipelines:** Unifies batch and streaming processing.\n",
    "\n",
    "By leveraging Delta Lake, you can build robust, scalable, and reliable data pipelines and data lakes.\n"
   ]
  },
  {
   "cell_type": "markdown",
   "metadata": {
    "application/vnd.databricks.v1+cell": {
     "cellMetadata": {},
     "inputWidgets": {},
     "nuid": "c5ff2a1f-f5ac-4d0c-9d0a-548f6c56d9ef",
     "showTitle": false,
     "tableResultSettingsMap": {},
     "title": ""
    }
   },
   "source": [
    "## Real-world Examples of ACID Transactions\n",
    "\n",
    "**ACID** transactions are fundamental to ensuring data integrity and consistency in database systems. Here are some real-world examples of ACID transactions:\n",
    "\n",
    "### Financial Transactions:\n",
    "* **Online Banking:** When transferring money between accounts, the transaction must be atomic: either both accounts are updated successfully, or neither is. \n",
    "* **ATM Withdrawals:** An ATM withdrawal involves multiple steps: deducting money from the account balance, dispensing cash, and updating the transaction log. All these steps must be completed successfully to ensure data consistency.\n",
    "\n",
    "### E-commerce Transactions:\n",
    "* **Order Processing:** When a customer places an order, a transaction is initiated to update inventory levels, process payments, and generate shipping labels. All these steps must be completed successfully to prevent inconsistencies.\n",
    "* **Checkout Process:** During checkout, multiple operations, such as updating cart items, processing payments, and generating invoices, are performed as a single transaction.\n",
    "\n",
    "### Airline Reservations:\n",
    "* **Seat Booking:** When a customer books a flight, a transaction is initiated to update the seat availability and generate a booking confirmation. The transaction must be atomic to prevent overbooking.\n",
    "\n",
    "### Inventory Management:\n",
    "* **Stock Adjustments:** When a product is added to or removed from inventory, a transaction is initiated to update the inventory levels. This ensures that the inventory count is accurate.\n",
    "\n",
    "**Key Points to Remember:**\n",
    "\n",
    "* **Atomicity:** All operations within a transaction must be treated as a single unit. Either all operations are committed, or none are.\n",
    "* **Consistency:** A transaction must ensure that the database state is valid before and after the transaction.\n",
    "* **Isolation:** Concurrent transactions must not interfere with each other.\n",
    "* **Durability:** Once a transaction is committed, its effects must be permanent, even in the event of system failures.\n",
    "\n",
    "By adhering to the ACID properties, database systems can maintain data integrity and reliability, even in complex and high-traffic scenarios.\n"
   ]
  },
  {
   "cell_type": "markdown",
   "metadata": {
    "application/vnd.databricks.v1+cell": {
     "cellMetadata": {},
     "inputWidgets": {},
     "nuid": "c8133023-4718-4e2b-b7aa-f167d454ee47",
     "showTitle": false,
     "tableResultSettingsMap": {},
     "title": ""
    }
   },
   "source": [
    "# Create Delta table"
   ]
  },
  {
   "cell_type": "code",
   "execution_count": 0,
   "metadata": {
    "application/vnd.databricks.v1+cell": {
     "cellMetadata": {
      "byteLimit": 2048000,
      "rowLimit": 10000
     },
     "inputWidgets": {},
     "nuid": "48f3b853-ebc3-472e-a56d-fe5c44f613a3",
     "showTitle": false,
     "tableResultSettingsMap": {},
     "title": ""
    }
   },
   "outputs": [],
   "source": [
    "# Create a DataFrame\n",
    "data = [\n",
    "    (\"Alice\", 30),\n",
    "    (\"Bob\", 25),\n",
    "    (\"Charlie\", 35)\n",
    "]\n",
    "\n",
    "df = spark.createDataFrame(data, [\"Name\", \"Age\"])\n",
    "\n",
    "# Write the DataFrame as a Delta table\n",
    "df.write.format(\"delta\").saveAsTable(\"my_delta_table\")"
   ]
  },
  {
   "cell_type": "code",
   "execution_count": 0,
   "metadata": {
    "application/vnd.databricks.v1+cell": {
     "cellMetadata": {
      "byteLimit": 2048000,
      "implicitDf": true,
      "rowLimit": 10000
     },
     "inputWidgets": {},
     "nuid": "fe07ca98-52e8-4baf-8bd8-f873c732aada",
     "showTitle": false,
     "tableResultSettingsMap": {},
     "title": ""
    }
   },
   "outputs": [
    {
     "output_type": "display_data",
     "data": {
      "text/html": [
       "<style scoped>\n",
       "  .table-result-container {\n",
       "    max-height: 300px;\n",
       "    overflow: auto;\n",
       "  }\n",
       "  table, th, td {\n",
       "    border: 1px solid black;\n",
       "    border-collapse: collapse;\n",
       "  }\n",
       "  th, td {\n",
       "    padding: 5px;\n",
       "  }\n",
       "  th {\n",
       "    text-align: left;\n",
       "  }\n",
       "</style><div class='table-result-container'><table class='table-result'><thead style='background-color: white'><tr><th>Name</th><th>Age</th></tr></thead><tbody><tr><td>Charlie</td><td>35</td></tr><tr><td>Alice</td><td>30</td></tr><tr><td>Bob</td><td>25</td></tr></tbody></table></div>"
      ]
     },
     "metadata": {
      "application/vnd.databricks.v1+output": {
       "addedWidgets": {},
       "aggData": [],
       "aggError": "",
       "aggOverflow": false,
       "aggSchema": [],
       "aggSeriesLimitReached": false,
       "aggType": "",
       "arguments": {},
       "columnCustomDisplayInfos": {},
       "data": [
        [
         "Charlie",
         35
        ],
        [
         "Alice",
         30
        ],
        [
         "Bob",
         25
        ]
       ],
       "datasetInfos": [],
       "dbfsResultPath": null,
       "isJsonSchema": true,
       "metadata": {},
       "overflow": false,
       "plotOptions": {
        "customPlotOptions": {},
        "displayType": "table",
        "pivotAggregation": null,
        "pivotColumns": null,
        "xColumns": null,
        "yColumns": null
       },
       "removedWidgets": [],
       "schema": [
        {
         "metadata": "{}",
         "name": "Name",
         "type": "\"string\""
        },
        {
         "metadata": "{}",
         "name": "Age",
         "type": "\"long\""
        }
       ],
       "type": "table"
      }
     },
     "output_type": "display_data"
    }
   ],
   "source": [
    "%sql\n",
    "select * from my_delta_table"
   ]
  },
  {
   "cell_type": "markdown",
   "metadata": {
    "application/vnd.databricks.v1+cell": {
     "cellMetadata": {},
     "inputWidgets": {},
     "nuid": "ccba7841-eebe-4ec8-bd89-7dd59869b32e",
     "showTitle": false,
     "tableResultSettingsMap": {},
     "title": ""
    }
   },
   "source": [
    "# Update Delta table"
   ]
  },
  {
   "cell_type": "code",
   "execution_count": 0,
   "metadata": {
    "application/vnd.databricks.v1+cell": {
     "cellMetadata": {
      "byteLimit": 2048000,
      "implicitDf": true,
      "rowLimit": 10000
     },
     "inputWidgets": {},
     "nuid": "12bfd537-e84a-470d-9100-af64866963c7",
     "showTitle": false,
     "tableResultSettingsMap": {},
     "title": ""
    }
   },
   "outputs": [
    {
     "output_type": "display_data",
     "data": {
      "text/html": [
       "<style scoped>\n",
       "  .table-result-container {\n",
       "    max-height: 300px;\n",
       "    overflow: auto;\n",
       "  }\n",
       "  table, th, td {\n",
       "    border: 1px solid black;\n",
       "    border-collapse: collapse;\n",
       "  }\n",
       "  th, td {\n",
       "    padding: 5px;\n",
       "  }\n",
       "  th {\n",
       "    text-align: left;\n",
       "  }\n",
       "</style><div class='table-result-container'><table class='table-result'><thead style='background-color: white'><tr><th>num_affected_rows</th></tr></thead><tbody><tr><td>1</td></tr></tbody></table></div>"
      ]
     },
     "metadata": {
      "application/vnd.databricks.v1+output": {
       "addedWidgets": {},
       "aggData": [],
       "aggError": "",
       "aggOverflow": false,
       "aggSchema": [],
       "aggSeriesLimitReached": false,
       "aggType": "",
       "arguments": {},
       "columnCustomDisplayInfos": {},
       "data": [
        [
         1
        ]
       ],
       "datasetInfos": [],
       "dbfsResultPath": null,
       "isJsonSchema": true,
       "metadata": {},
       "overflow": false,
       "plotOptions": {
        "customPlotOptions": {},
        "displayType": "table",
        "pivotAggregation": null,
        "pivotColumns": null,
        "xColumns": null,
        "yColumns": null
       },
       "removedWidgets": [],
       "schema": [
        {
         "metadata": "{}",
         "name": "num_affected_rows",
         "type": "\"long\""
        }
       ],
       "type": "table"
      }
     },
     "output_type": "display_data"
    }
   ],
   "source": [
    "%sql\n",
    "update my_delta_table set Age=31 where Name='Alice'"
   ]
  },
  {
   "cell_type": "code",
   "execution_count": 0,
   "metadata": {
    "application/vnd.databricks.v1+cell": {
     "cellMetadata": {
      "byteLimit": 2048000,
      "implicitDf": true,
      "rowLimit": 10000
     },
     "inputWidgets": {},
     "nuid": "9d8b3ee3-1d67-4bb1-a929-0e3b4a74cb11",
     "showTitle": false,
     "tableResultSettingsMap": {},
     "title": ""
    }
   },
   "outputs": [
    {
     "output_type": "display_data",
     "data": {
      "text/html": [
       "<style scoped>\n",
       "  .table-result-container {\n",
       "    max-height: 300px;\n",
       "    overflow: auto;\n",
       "  }\n",
       "  table, th, td {\n",
       "    border: 1px solid black;\n",
       "    border-collapse: collapse;\n",
       "  }\n",
       "  th, td {\n",
       "    padding: 5px;\n",
       "  }\n",
       "  th {\n",
       "    text-align: left;\n",
       "  }\n",
       "</style><div class='table-result-container'><table class='table-result'><thead style='background-color: white'><tr><th>Name</th><th>Age</th></tr></thead><tbody><tr><td>Charlie</td><td>35</td></tr><tr><td>Alice</td><td>31</td></tr><tr><td>Bob</td><td>25</td></tr></tbody></table></div>"
      ]
     },
     "metadata": {
      "application/vnd.databricks.v1+output": {
       "addedWidgets": {},
       "aggData": [],
       "aggError": "",
       "aggOverflow": false,
       "aggSchema": [],
       "aggSeriesLimitReached": false,
       "aggType": "",
       "arguments": {},
       "columnCustomDisplayInfos": {},
       "data": [
        [
         "Charlie",
         35
        ],
        [
         "Alice",
         31
        ],
        [
         "Bob",
         25
        ]
       ],
       "datasetInfos": [],
       "dbfsResultPath": null,
       "isJsonSchema": true,
       "metadata": {},
       "overflow": false,
       "plotOptions": {
        "customPlotOptions": {},
        "displayType": "table",
        "pivotAggregation": null,
        "pivotColumns": null,
        "xColumns": null,
        "yColumns": null
       },
       "removedWidgets": [],
       "schema": [
        {
         "metadata": "{}",
         "name": "Name",
         "type": "\"string\""
        },
        {
         "metadata": "{}",
         "name": "Age",
         "type": "\"long\""
        }
       ],
       "type": "table"
      }
     },
     "output_type": "display_data"
    }
   ],
   "source": [
    "%sql\n",
    "select * from my_delta_table"
   ]
  },
  {
   "cell_type": "code",
   "execution_count": 0,
   "metadata": {
    "application/vnd.databricks.v1+cell": {
     "cellMetadata": {
      "byteLimit": 2048000,
      "implicitDf": true,
      "rowLimit": 10000
     },
     "inputWidgets": {},
     "nuid": "9fe1e63f-573c-492c-a035-4024db18cb33",
     "showTitle": false,
     "tableResultSettingsMap": {},
     "title": ""
    }
   },
   "outputs": [
    {
     "output_type": "display_data",
     "data": {
      "text/html": [
       "<style scoped>\n",
       "  .table-result-container {\n",
       "    max-height: 300px;\n",
       "    overflow: auto;\n",
       "  }\n",
       "  table, th, td {\n",
       "    border: 1px solid black;\n",
       "    border-collapse: collapse;\n",
       "  }\n",
       "  th, td {\n",
       "    padding: 5px;\n",
       "  }\n",
       "  th {\n",
       "    text-align: left;\n",
       "  }\n",
       "</style><div class='table-result-container'><table class='table-result'><thead style='background-color: white'><tr><th>format</th><th>id</th><th>name</th><th>description</th><th>location</th><th>createdAt</th><th>lastModified</th><th>partitionColumns</th><th>numFiles</th><th>sizeInBytes</th><th>properties</th><th>minReaderVersion</th><th>minWriterVersion</th><th>tableFeatures</th><th>statistics</th></tr></thead><tbody><tr><td>delta</td><td>710c94d1-0e27-4380-8283-5fa945e40287</td><td>spark_catalog.default.my_delta_table</td><td>null</td><td>dbfs:/user/hive/warehouse/my_delta_table</td><td>2024-12-17T00:42:00.269+0000</td><td>2024-12-17T00:52:26.000+0000</td><td>List()</td><td>3</td><td>2532</td><td>Map()</td><td>1</td><td>2</td><td>List(appendOnly, invariants)</td><td>Map()</td></tr></tbody></table></div>"
      ]
     },
     "metadata": {
      "application/vnd.databricks.v1+output": {
       "addedWidgets": {},
       "aggData": [],
       "aggError": "",
       "aggOverflow": false,
       "aggSchema": [],
       "aggSeriesLimitReached": false,
       "aggType": "",
       "arguments": {},
       "columnCustomDisplayInfos": {},
       "data": [
        [
         "delta",
         "710c94d1-0e27-4380-8283-5fa945e40287",
         "spark_catalog.default.my_delta_table",
         null,
         "dbfs:/user/hive/warehouse/my_delta_table",
         "2024-12-17T00:42:00.269+0000",
         "2024-12-17T00:52:26.000+0000",
         [],
         3,
         2532,
         {},
         1,
         2,
         [
          "appendOnly",
          "invariants"
         ],
         {}
        ]
       ],
       "datasetInfos": [],
       "dbfsResultPath": null,
       "isJsonSchema": true,
       "metadata": {},
       "overflow": false,
       "plotOptions": {
        "customPlotOptions": {},
        "displayType": "table",
        "pivotAggregation": null,
        "pivotColumns": null,
        "xColumns": null,
        "yColumns": null
       },
       "removedWidgets": [],
       "schema": [
        {
         "metadata": "{}",
         "name": "format",
         "type": "\"string\""
        },
        {
         "metadata": "{}",
         "name": "id",
         "type": "\"string\""
        },
        {
         "metadata": "{}",
         "name": "name",
         "type": "\"string\""
        },
        {
         "metadata": "{}",
         "name": "description",
         "type": "\"string\""
        },
        {
         "metadata": "{}",
         "name": "location",
         "type": "\"string\""
        },
        {
         "metadata": "{}",
         "name": "createdAt",
         "type": "\"timestamp\""
        },
        {
         "metadata": "{}",
         "name": "lastModified",
         "type": "\"timestamp\""
        },
        {
         "metadata": "{}",
         "name": "partitionColumns",
         "type": "{\"type\":\"array\",\"elementType\":\"string\",\"containsNull\":true}"
        },
        {
         "metadata": "{}",
         "name": "numFiles",
         "type": "\"long\""
        },
        {
         "metadata": "{}",
         "name": "sizeInBytes",
         "type": "\"long\""
        },
        {
         "metadata": "{}",
         "name": "properties",
         "type": "{\"type\":\"map\",\"keyType\":\"string\",\"valueType\":\"string\",\"valueContainsNull\":true}"
        },
        {
         "metadata": "{}",
         "name": "minReaderVersion",
         "type": "\"integer\""
        },
        {
         "metadata": "{}",
         "name": "minWriterVersion",
         "type": "\"integer\""
        },
        {
         "metadata": "{}",
         "name": "tableFeatures",
         "type": "{\"type\":\"array\",\"elementType\":\"string\",\"containsNull\":true}"
        },
        {
         "metadata": "{}",
         "name": "statistics",
         "type": "{\"type\":\"map\",\"keyType\":\"string\",\"valueType\":\"long\",\"valueContainsNull\":true}"
        }
       ],
       "type": "table"
      }
     },
     "output_type": "display_data"
    }
   ],
   "source": [
    "%sql\n",
    "DESCRIBE detail my_delta_table;"
   ]
  },
  {
   "cell_type": "markdown",
   "metadata": {
    "application/vnd.databricks.v1+cell": {
     "cellMetadata": {},
     "inputWidgets": {},
     "nuid": "04b30265-0fa4-4241-9393-161e4162dc15",
     "showTitle": false,
     "tableResultSettingsMap": {},
     "title": ""
    }
   },
   "source": [
    "#  Read the table using versionAsOf"
   ]
  },
  {
   "cell_type": "code",
   "execution_count": 0,
   "metadata": {
    "application/vnd.databricks.v1+cell": {
     "cellMetadata": {
      "byteLimit": 2048000,
      "rowLimit": 10000
     },
     "inputWidgets": {},
     "nuid": "adcc4e3a-5bb2-41f7-8e28-11b762379f6e",
     "showTitle": false,
     "tableResultSettingsMap": {},
     "title": ""
    }
   },
   "outputs": [
    {
     "output_type": "stream",
     "name": "stdout",
     "output_type": "stream",
     "text": [
      "+-------+---+\n|   Name|Age|\n+-------+---+\n|Charlie| 35|\n|  Alice| 31|\n|    Bob| 25|\n+-------+---+\n\n"
     ]
    }
   ],
   "source": [
    "# Read the table at version 1\n",
    "df = spark.read.format(\"delta\").option(\"versionAsOf\", 1).load(\"dbfs:/user/hive/warehouse/my_delta_table\")\n",
    "df.show()"
   ]
  },
  {
   "cell_type": "markdown",
   "metadata": {
    "application/vnd.databricks.v1+cell": {
     "cellMetadata": {},
     "inputWidgets": {},
     "nuid": "002fcfc1-36b6-4ecc-ab25-ffa9484051e5",
     "showTitle": false,
     "tableResultSettingsMap": {},
     "title": ""
    }
   },
   "source": [
    "#  Read the table using timestampAsOf"
   ]
  },
  {
   "cell_type": "code",
   "execution_count": 0,
   "metadata": {
    "application/vnd.databricks.v1+cell": {
     "cellMetadata": {
      "byteLimit": 2048000,
      "rowLimit": 10000
     },
     "inputWidgets": {},
     "nuid": "59f58fb4-8165-46b7-9ae8-b93230349b89",
     "showTitle": false,
     "tableResultSettingsMap": {},
     "title": ""
    }
   },
   "outputs": [
    {
     "output_type": "stream",
     "name": "stdout",
     "output_type": "stream",
     "text": [
      "+-------+---+\n|   Name|Age|\n+-------+---+\n|Charlie| 35|\n|  Alice| 30|\n|    Bob| 25|\n+-------+---+\n\n"
     ]
    }
   ],
   "source": [
    "# Read the table as of 2023-01-01\n",
    "df = spark.read.format(\"delta\").option(\"timestampAsOf\", \"2024-12-17T00:42:14.000+00:00\").load(\"dbfs:/user/hive/warehouse/my_delta_table\")\n",
    "df.show()"
   ]
  }
 ],
 "metadata": {
  "application/vnd.databricks.v1+notebook": {
   "dashboards": [],
   "environmentMetadata": null,
   "language": "python",
   "notebookMetadata": {
    "mostRecentlyExecutedCommandWithImplicitDF": {
     "commandId": 2264660156930145,
     "dataframes": [
      "_sqldf"
     ]
    },
    "pythonIndentUnit": 4
   },
   "notebookName": "Delta Lake",
   "widgets": {}
  }
 },
 "nbformat": 4,
 "nbformat_minor": 0
}
